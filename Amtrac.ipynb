{
  "metadata": {
    "language_info": {
      "codemirror_mode": {
        "name": "python",
        "version": 3
      },
      "file_extension": ".py",
      "mimetype": "text/x-python",
      "name": "python",
      "nbconvert_exporter": "python",
      "pygments_lexer": "ipython3",
      "version": "3.8"
    },
    "kernelspec": {
      "name": "python",
      "display_name": "Python (Pyodide)",
      "language": "python"
    }
  },
  "nbformat_minor": 4,
  "nbformat": 4,
  "cells": [
    {
      "cell_type": "code",
      "source": "#get proper libraires for analysis\n\ninstall.packages(\"tidyverse\")\ninstall.packages(\"tidygraph\")\ninstall.packages(\"ggraph\")\ninstall.packages(\"janitor\")\nlibrary(tidyverse)\nlibrary(tidygraph)\nlibrary(ggraph)\nlibrary(janitor)",
      "metadata": {
        "trusted": true
      },
      "execution_count": 1,
      "outputs": []
    },
    {
      "cell_type": "code",
      "source": "#check working directory\ngetwd()",
      "metadata": {
        "trusted": true
      },
      "execution_count": 1,
      "outputs": []
    },
    {
      "cell_type": "code",
      "source": "#combine all data\ninstall.packages(\"dplyr\")                           # Install dplyr package\ninstall.packages(\"plyr\")                            # Install plyr package\ninstall.packages(\"readr\")\nlibrary(\"dplyr\")                                    # Load dplyr package\nlibrary(\"plyr\")                                     # Load plyr package\nlibrary(\"readr\")\n\nall_data <- list.files(path = \"yourPath\", pattern = \"*.csv\", full.names = TRUE) %>% \n  lapply(read_csv) %>%                              #returns a list\n  bind_rows                                         \nhead(all_data)  ",
      "metadata": {
        "trusted": true
      },
      "execution_count": 1,
      "outputs": []
    },
    {
      "cell_type": "code",
      "source": "#average time delay per train arranged by desc order\ndelay_mar18 <- march2018 %>%\n  filter(delay_minutes > 0) %>%\n  select(train_id, date, delay_minutes)\n\navg_delay_mar18 <- delay_mar18 %>%\n  group_by(train_id) %>%\n  summarise(\n    avg = mean(delay_minutes))\n\navg_delay_mar18 %>%\n  select(train_id,avg) %>%\n  arrange(desc(avg))",
      "metadata": {
        "trusted": true
      },
      "execution_count": 1,
      "outputs": []
    },
    {
      "cell_type": "code",
      "source": "#graph of routes\ninstall.packages(\"tidygraph\")\ninstall.packages(\"ggraph\")\nlibrary(tidygraph)\nlibrary(ggraph)\n\nroute <- march2018 %>%\n  group_by(to, from) %>%\n  select(train_id, to, from)\n  \ngraph_route <- as_tbl_graph(route)\ngraph_route\n\nstations <- graph_route %>%\n  activate(nodes) %>%\n  pull(name)\n\nstations\n\nggraph(graph_route) +\n  geom_node_text(aes(label = stations)) +\n  geom_node_point() +\n  geom_edge_diagonal()",
      "metadata": {
        "trusted": true
      },
      "execution_count": 1,
      "outputs": []
    },
    {
      "cell_type": "code",
      "source": "###### Seasonal delays for 2018.\n\n###### Average time delay in March 2018 arranged by descending order.\n###### The highest average delay time is 43 minutes for train 9227.\n###### The shortest average delay time is 4 seconds for train 4102.\n\nDelay_Mar18 <- March2018 %>%\n  filter(delay_minutes > 0) %>%\n  select(train_id, date, delay_minutes)\n\nAvg_Delay_Mar18 <- Delay_Mar18 %>%\n  group_by(train_id) %>%\n  summarise(avg = mean(delay_minutes))\n\nAvg_Delay_Mar18 %>%\n  select(train_id,avg) %>%\n  arrange(desc(avg))\n\nAvg_Delay_Mar18 %>%\n  select(train_id,avg) %>%\n  arrange(avg)",
      "metadata": {
        "trusted": true
      },
      "execution_count": 1,
      "outputs": []
    },
    {
      "cell_type": "code",
      "source": "###### Average time delay in June 2018 arranged by descending order.\n###### The highest average delay time is 25 minutes 6 seconds for train 4369.\n###### The shortest average delay time is 5 seconds for train 4140.\n\nDelay_Jun18 <- June2018 %>%\n  filter(delay_minutes > 0) %>%\n  select(train_id, date, delay_minutes)\n\nAvg_Delay_Jun18 <- Delay_Jun18 %>%\n  group_by(train_id) %>%\n  summarise(avg = mean(delay_minutes))\n\nAvg_Delay_Jun18 %>%\n  select(train_id,avg) %>%\n  arrange(desc(avg))\n\nAvg_Delay_Jun18 %>%\n  select(train_id,avg) %>%\n  arrange(avg)",
      "metadata": {
        "trusted": true
      },
      "execution_count": 1,
      "outputs": []
    },
    {
      "cell_type": "code",
      "source": "###### Average time delay in September 2018 arranged by descending order.\n###### The highest average delay time is 48 minutes 48 seconds for train 4684.\n###### The shortest average delay time is 5 seconds for train 4277.\n\nDelay_Sept18 <- September2018 %>%\n  filter(delay_minutes > 0) %>%\n  select(train_id, date, delay_minutes)\n\nAvg_Delay_Sept18 <- Delay_Sept18 %>%\n  group_by(train_id) %>%\n  summarise(avg = mean(delay_minutes))\n\nAvg_Delay_Sept18 %>%\n  select(train_id,avg) %>%\n  arrange(desc(avg))\n\nAvg_Delay_Sept18 %>%\n  select(train_id,avg) %>%\n  arrange(avg)",
      "metadata": {
        "trusted": true
      },
      "execution_count": 1,
      "outputs": []
    },
    {
      "cell_type": "code",
      "source": "###### Average time delay in December 2018 arranged by descending order.\n###### The highest average delay time is 33 minutes 48 seconds for train 0341.\n###### The shortest average delay time is 35 seconds for train 0300.\n\nDelay_Dec18 <- December2018 %>%\n  filter(delay_minutes > 0) %>%\n  select(train_id, date, delay_minutes)\n\nAvg_Delay_Dec18 <- Delay_Dec18 %>%\n  group_by(train_id) %>%\n  summarise(avg = mean(delay_minutes))\n\nAvg_Delay_Dec18 %>%\n  select(train_id,avg) %>%\n  arrange(desc(avg))\n\nAvg_Delay_Dec18 %>%\n  select(train_id,avg) %>%\n  arrange(avg)",
      "metadata": {
        "trusted": true
      },
      "execution_count": 1,
      "outputs": []
    },
    {
      "cell_type": "code",
      "source": "###### Seasonal delays for 2019.\n\n###### Average time delay in January 2019 arranged by descending order.\n###### The highest average delay time is 151 minutes for train 9225.\n###### The shortest average delay time is 29 seconds for train 5408.\n\nDelay_Jan19 <- January2019 %>%\n  filter(delay_minutes > 0) %>%\n  select(train_id, date, delay_minutes)\n\nAvg_Delay_Jan19 <- Delay_Jan19 %>%\n  group_by(train_id) %>%\n  summarise(avg = mean(delay_minutes))\n\nAvg_Delay_Jan19 %>%\n  select(train_id,avg) %>%\n  arrange(desc(avg))\n\nAvg_Delay_Jan19 %>%\n  select(train_id,avg) %>%\n  arrange(avg)",
      "metadata": {
        "trusted": true
      },
      "execution_count": 1,
      "outputs": []
    },
    {
      "cell_type": "code",
      "source": "###### Average time delay in April 2019 arranged by descending order.\n###### The highest average delay time is 33 minutes 48 seconds for train 5521.\n###### The shortest average delay time is 4 seconds for train 4108.\n\nDelay_Apr19 <- April2019 %>%\n  filter(delay_minutes > 0) %>%\n  select(train_id, date, delay_minutes)\n\nAvg_Delay_Apr19 <- Delay_Apr19 %>%\n  group_by(train_id) %>%\n  summarise(avg = mean(delay_minutes))\n\nAvg_Delay_Apr19 %>%\n  select(train_id,avg) %>%\n  arrange(desc(avg))\n\nAvg_Delay_Apr19 %>%\n  select(train_id,avg) %>%\n  arrange(avg)",
      "metadata": {
        "trusted": true
      },
      "execution_count": 1,
      "outputs": []
    },
    {
      "cell_type": "code",
      "source": "###### Average time delay in July 2019 arranged by descending order.\n###### The highest average delay time is 88 minutes 6 seconds for train 4689.\n###### The shortest average delay time is 3 seconds for train 4683.\n\nDelay_Jul19 <- July2019 %>%\n  filter(delay_minutes > 0) %>%\n  select(train_id, date, delay_minutes)\n\nAvg_Delay_Jul19 <- Delay_Jul19 %>%\n  group_by(train_id) %>%\n  summarise(avg = mean(delay_minutes))\n\nAvg_Delay_Jul19 %>%\n  select(train_id,avg) %>%\n  arrange(desc(avg))\n\nAvg_Delay_Jul19 %>%\n  select(train_id,avg) %>%\n  arrange(avg)",
      "metadata": {
        "trusted": true
      },
      "execution_count": 1,
      "outputs": []
    },
    {
      "cell_type": "code",
      "source": "###### Average time delay in October 2019 arranged by descending order.\n###### The highest average delay time is 96 minutes 48 seconds for train 4689.\n###### The shortest average delay time is 3 seconds for train 1620.\n\nDelay_Oct19 <- October2019 %>%\n  filter(delay_minutes > 0) %>%\n  select(train_id, date, delay_minutes)\n\nAvg_Delay_Oct19 <- Delay_Oct19 %>%\n  group_by(train_id) %>%\n  summarise(avg = mean(delay_minutes))\n\nAvg_Delay_Oct19 %>%\n  select(train_id,avg) %>%\n  arrange(desc(avg))\n\nAvg_Delay_Oct19 %>%\n  select(train_id,avg) %>%\n  arrange(avg)",
      "metadata": {
        "trusted": true
      },
      "execution_count": 1,
      "outputs": []
    },
    {
      "cell_type": "code",
      "source": "###### Seasonal delays for 2020.\n\n###### Average time delay in February 2020 arranged by descending order.\n###### The highest average delay time is 148 minutes for train 9225.\n###### The shortest average delay time is 17 seconds for train 4182.\n\nDelay_Feb20 <- February2020 %>%\n  filter(delay_minutes > 0) %>%\n  select(train_id, date, delay_minutes)\n\nAvg_Delay_Feb20 <- Delay_Feb20 %>%\n  group_by(train_id) %>%\n  summarise(avg = mean(delay_minutes))\n\nAvg_Delay_Feb20 %>%\n  select(train_id,avg) %>%\n  arrange(desc(avg))\n\nAvg_Delay_Feb20 %>%\n  select(train_id,avg) %>%\n  arrange(avg)",
      "metadata": {
        "trusted": true
      },
      "execution_count": 1,
      "outputs": []
    },
    {
      "cell_type": "code",
      "source": "###### Average time delay in May 2020 arranged by descending order.\n###### The highest average delay time is 150 minutes for train 9225.\n###### The shortest average delay time is 5 seconds for train 4256.\n\nDelay_May20 <- May2020 %>%\n  filter(delay_minutes > 0) %>%\n  select(train_id, date, delay_minutes)\n\nAvg_Delay_May20 <- Delay_May20 %>%\n  group_by(train_id) %>%\n  summarise(avg = mean(delay_minutes))\n\nAvg_Delay_May20 %>%\n  select(train_id,avg) %>%\n  arrange(desc(avg))\n\nAvg_Delay_May20 %>%\n  select(train_id,avg) %>%\n  arrange(avg)",
      "metadata": {
        "trusted": true
      },
      "execution_count": 1,
      "outputs": []
    },
    {
      "cell_type": "code",
      "source": "###### Monthly Time Delay (all months)\n\n###### Average time delay in March 2018 arranged by descending order.\n###### The highest average delay time is 43 minutes for train 9227.\n###### The shortest average delay time is 4 seconds for train 4102.\n\nDelay_Mar18 <- March2018 %>%\n  filter(delay_minutes > 0) %>%\n  select(train_id, date, delay_minutes)\n\nAvg_Delay_Mar18 <- Delay_Mar18 %>%\n  group_by(train_id) %>%\n  summarise(avg = mean(delay_minutes))\n\nAvg_Delay_Mar18 %>%\n  select(train_id,avg) %>%\n  arrange(desc(avg))\n\nAvg_Delay_Mar18 %>%\n  select(train_id,avg) %>%\n  arrange(avg)",
      "metadata": {},
      "execution_count": null,
      "outputs": []
    },
    {
      "cell_type": "code",
      "source": "###### Average time delay in April 2018 arranged by descending order.\n###### The highest average delay time is 28 minutes 42 seconds for train 5521.\n###### The shortest average delay time is 3 seconds for train 4102.\nDelay_Apr18 <- April2018 %>%\n  filter(delay_minutes > 0) %>%\n  select(train_id, date, delay_minutes)\n\nAvg_Delay_Apr18 <- Delay_Apr18 %>%\n  group_by(train_id) %>%\n  summarise(avg = mean(delay_minutes))\n\nAvg_Delay_Apr18 %>%\n  select(train_id,avg) %>%\n  arrange(desc(avg))\n\nAvg_Delay_Apr18 %>%\n  select(train_id,avg) %>%\n  arrange(avg)\n  ",
      "metadata": {},
      "execution_count": null,
      "outputs": []
    },
    {
      "cell_type": "code",
      "source": "###### Average time delay in May 2018 arranged by descending order.\n###### The highest average delay time is 20 minutes 24 seconds for train 5515.\n###### The shortest average delay time is 4 seconds for train 4279.\nDelay_May18 <- May2018 %>%\n  filter(delay_minutes > 0) %>%\n  select(train_id, date, delay_minutes)\n\nAvg_Delay_May18 <- Delay_May18 %>%\n  group_by(train_id) %>%\n  summarise(avg = mean(delay_minutes))\n\nAvg_Delay_May18 %>%\n  select(train_id,avg) %>%\n  arrange(desc(avg))\n\nAvg_Delay_May18 %>%\n  select(train_id,avg) %>%\n  arrange(avg)",
      "metadata": {},
      "execution_count": null,
      "outputs": []
    },
    {
      "cell_type": "code",
      "source": "###### Average time delay in June 2018 arranged by descending order.\n###### The highest average delay time is 25 minutes 6 seconds for train 4369.\n###### The shortest average delay time is 5 seconds for train 4140.\nDelay_Jun18 <- June2018 %>%\n  filter(delay_minutes > 0) %>%\n  select(train_id, date, delay_minutes)\n\nAvg_Delay_Jun18 <- Delay_Jun18 %>%\n  group_by(train_id) %>%\n  summarise(avg = mean(delay_minutes))\n\nAvg_Delay_Jun18 %>%\n  select(train_id,avg) %>%\n  arrange(desc(avg))\n\nAvg_Delay_Jun18 %>%\n  select(train_id,avg) %>%\n  arrange(avg)",
      "metadata": {},
      "execution_count": null,
      "outputs": []
    },
    {
      "cell_type": "code",
      "source": "###### Average time delay in July 2018 arranged by descending order.\n###### The highest average delay time is 30 minutes for train 5541.\n###### The shortest average delay time is 3 seconds for train 4201.\nDelay_Jul18 <- July2018 %>%\n  filter(delay_minutes > 0) %>%\n  select(train_id, date, delay_minutes)\n\nAvg_Delay_Jul18 <- Delay_Jul18 %>%\n  group_by(train_id) %>%\n  summarise(avg = mean(delay_minutes))\n\nAvg_Delay_Jul18 %>%\n  select(train_id,avg) %>%\n  arrange(desc(avg))\n\nAvg_Delay_Jul18 %>%\n  select(train_id,avg) %>%\n  arrange(avg)",
      "metadata": {},
      "execution_count": null,
      "outputs": []
    },
    {
      "cell_type": "code",
      "source": "###### Average time delay in August 2018 arranged by descending order.\n###### The highest average delay time is 33 minutes for train 5533.\n###### The shortest average delay time is 4 seconds for train 4149.\nDelay_Aug18 <- August2018 %>%\n  filter(delay_minutes > 0) %>%\n  select(train_id, date, delay_minutes)\n\nAvg_Delay_Aug18 <- Delay_Aug18 %>%\n  group_by(train_id) %>%\n  summarise(avg = mean(delay_minutes))\n\nAvg_Delay_Aug18 %>%\n  select(train_id,avg) %>%\n  arrange(desc(avg))\n\nAvg_Delay_Aug18 %>%\n  select(train_id,avg) %>%\n  arrange(avg)",
      "metadata": {},
      "execution_count": null,
      "outputs": []
    },
    {
      "cell_type": "code",
      "source": "###### Average time delay in September 2018 arranged by descending order.\n###### The highest average delay time is 48 minutes 48 seconds for train 4684.\n###### The shortest average delay time is 5 seconds for train 4277.\nDelay_Sept18 <- September2018 %>%\n  filter(delay_minutes > 0) %>%\n  select(train_id, date, delay_minutes)\n\nAvg_Delay_Sept18 <- Delay_Sept18 %>%\n  group_by(train_id) %>%\n  summarise(avg = mean(delay_minutes))\n\nAvg_Delay_Sept18 %>%\n  select(train_id,avg) %>%\n  arrange(desc(avg))\n\nAvg_Delay_Sept18 %>%\n  select(train_id,avg) %>%\n  arrange(avg)",
      "metadata": {},
      "execution_count": null,
      "outputs": []
    },
    {
      "cell_type": "code",
      "source": "###### Average time delay in October 2018 arranged by descending order.\n###### The highest average delay time is 36 minutes 24 seconds for train 5529.\n###### The shortest average delay time is 2 seconds for train 4264.\nDelay_Oct18 <- October2018 %>%\n  filter(delay_minutes > 0) %>%\n  select(train_id, date, delay_minutes)\n\nAvg_Delay_Oct18 <- Delay_Oct18 %>%\n  group_by(train_id) %>%\n  summarise(avg = mean(delay_minutes))\n\nAvg_Delay_Oct18 %>%\n  select(train_id,avg) %>%\n  arrange(desc(avg))\n\nAvg_Delay_Oct18 %>%\n  select(train_id,avg) %>%\n  arrange(avg)",
      "metadata": {},
      "execution_count": null,
      "outputs": []
    },
    {
      "cell_type": "code",
      "source": "###### Average time delay in November 2018 arranged by descending order.\n###### The highest average delay time is 39 minutes 12 seconds for train 3595.\n###### The shortest average delay time is 8 seconds for train 1220.\nDelay_Nov18 <- November2018 %>%\n  filter(delay_minutes > 0) %>%\n  select(train_id, date, delay_minutes)\n\nAvg_Delay_Nov18 <- Delay_Nov18 %>%\n  group_by(train_id) %>%\n  summarise(avg = mean(delay_minutes))\n\nAvg_Delay_Nov18 %>%\n  select(train_id,avg) %>%\n  arrange(desc(avg))\n\nAvg_Delay_Nov18 %>%\n  select(train_id,avg) %>%\n  arrange(avg)",
      "metadata": {},
      "execution_count": null,
      "outputs": []
    },
    {
      "cell_type": "code",
      "source": "###### Average time delay in December 2018 arranged by descending order.\n###### The highest average delay time is 33 minutes 48 seconds for train 0341.\n###### The shortest average delay time is 35 seconds for train 0300.\nDelay_Dec18 <- December2018 %>%\n  filter(delay_minutes > 0) %>%\n  select(train_id, date, delay_minutes)\n\nAvg_Delay_Dec18 <- Delay_Dec18 %>%\n  group_by(train_id) %>%\n  summarise(avg = mean(delay_minutes))\n\nAvg_Delay_Dec18 %>%\n  select(train_id,avg) %>%\n  arrange(desc(avg))\n\nAvg_Delay_Dec18 %>%\n  select(train_id,avg) %>%\n  arrange(avg)",
      "metadata": {},
      "execution_count": null,
      "outputs": []
    },
    {
      "cell_type": "code",
      "source": "###### Average time delay in January 2019 arranged by descending order.\n###### The highest average delay time is 151 minutes for train 9225.\n###### The shortest average delay time is 29 seconds for train 5408.\nDelay_Jan19 <- January2019 %>%\n  filter(delay_minutes > 0) %>%\n  select(train_id, date, delay_minutes)\n\nAvg_Delay_Jan19 <- Delay_Jan19 %>%\n  group_by(train_id) %>%\n  summarise(avg = mean(delay_minutes))\n\nAvg_Delay_Jan19 %>%\n  select(train_id,avg) %>%\n  arrange(desc(avg))\n\nAvg_Delay_Jan19 %>%\n  select(train_id,avg) %>%\n  arrange(avg)",
      "metadata": {},
      "execution_count": null,
      "outputs": []
    },
    {
      "cell_type": "code",
      "source": "###### Average time delay in February 2019 arranged by descending order.\n###### The highest average delay time is 150 minutes for train 9225.\n###### The shortest average delay time is 7 seconds for train 0745.\nDelay_Feb19 <- February2019 %>%\n  filter(delay_minutes > 0) %>%\n  select(train_id, date, delay_minutes)\n\nAvg_Delay_Feb19 <- Delay_Feb19 %>%\n  group_by(train_id) %>%\n  summarise(avg = mean(delay_minutes))\n\nAvg_Delay_Feb19 %>%\n  select(train_id,avg) %>%\n  arrange(desc(avg))\n\nAvg_Delay_Feb19 %>%\n  select(train_id,avg) %>%\n  arrange(avg)",
      "metadata": {},
      "execution_count": null,
      "outputs": []
    },
    {
      "cell_type": "code",
      "source": "###### Average time delay in March 2019 arranged by descending order.\n###### The highest average delay time is 33 minutes 54 seconds for train 0341.\n###### The shortest average delay time is 5 seconds for train 5408.\nDelay_Mar19 <- March2019 %>%\n  filter(delay_minutes > 0) %>%\n  select(train_id, date, delay_minutes)\n\nAvg_Delay_Mar19 <- Delay_Mar19 %>%\n  group_by(train_id) %>%\n  summarise(avg = mean(delay_minutes))\n\nAvg_Delay_Mar19 %>%\n  select(train_id,avg) %>%\n  arrange(desc(avg))\n\nAvg_Delay_Mar19 %>%\n  select(train_id,avg) %>%\n  arrange(avg)",
      "metadata": {},
      "execution_count": null,
      "outputs": []
    },
    {
      "cell_type": "code",
      "source": "###### Average time delay in April 2019 arranged by descending order.\n###### The highest average delay time is 33 minutes 48 seconds for train 5521.\n###### The shortest average delay time is 4 seconds for train 4108.\nDelay_Apr19 <- April2019 %>%\n  filter(delay_minutes > 0) %>%\n  select(train_id, date, delay_minutes)\n\nAvg_Delay_Apr19 <- Delay_Apr19 %>%\n  group_by(train_id) %>%\n  summarise(avg = mean(delay_minutes))\n\nAvg_Delay_Apr19 %>%\n  select(train_id,avg) %>%\n  arrange(desc(avg))\n\nAvg_Delay_Apr19 %>%\n  select(train_id,avg) %>%\n  arrange(avg)",
      "metadata": {},
      "execution_count": null,
      "outputs": []
    },
    {
      "cell_type": "code",
      "source": "###### Average time delay in May 2019 arranged by descending order.\n###### The highest average delay time is 89 minutes 18 seconds for train 4684.\n###### The shortest average delay time is 4 seconds for train 4278.\nDelay_May19 <- May2019 %>%\n  filter(delay_minutes > 0) %>%\n  select(train_id, date, delay_minutes)\n\nAvg_Delay_May19 <- Delay_May19 %>%\n  group_by(train_id) %>%\n  summarise(avg = mean(delay_minutes))\n\nAvg_Delay_May19 %>%\n  select(train_id,avg) %>%\n  arrange(desc(avg))\n\nAvg_Delay_May19 %>%\n  select(train_id,avg) %>%\n  arrange(avg)",
      "metadata": {},
      "execution_count": null,
      "outputs": []
    },
    {
      "cell_type": "code",
      "source": "###### Average time delay in June 2019 arranged by descending order.\n###### The highest average delay time is 88 minutes 6 seconds for train 4684.\n###### The shortest average delay time is 7 seconds for train 4178.\nDelay_Jun19 <- June2019 %>%\n  filter(delay_minutes > 0) %>%\n  select(train_id, date, delay_minutes)\n\nAvg_Delay_Jun19 <- Delay_Jun19 %>%\n  group_by(train_id) %>%\n  summarise(avg = mean(delay_minutes))\n\nAvg_Delay_Jun19 %>%\n  select(train_id,avg) %>%\n  arrange(desc(avg))\n\nAvg_Delay_Jun19 %>%\n  select(train_id,avg) %>%\n  arrange(avg)",
      "metadata": {},
      "execution_count": null,
      "outputs": []
    },
    {
      "cell_type": "code",
      "source": "###### Average time delay in July 2019 arranged by descending order.\n###### The highest average delay time is 88 minutes 6 seconds for train 4689.\n###### The shortest average delay time is 3 seconds for train 4683.\nDelay_Jul19 <- July2019 %>%\n  filter(delay_minutes > 0) %>%\n  select(train_id, date, delay_minutes)\n\nAvg_Delay_Jul19 <- Delay_Jul19 %>%\n  group_by(train_id) %>%\n  summarise(avg = mean(delay_minutes))\n\nAvg_Delay_Jul19 %>%\n  select(train_id,avg) %>%\n  arrange(desc(avg))\n\nAvg_Delay_Jul19 %>%\n  select(train_id,avg) %>%\n  arrange(avg)",
      "metadata": {},
      "execution_count": null,
      "outputs": []
    },
    {
      "cell_type": "code",
      "source": "###### Average time delay in August 2019 arranged by descending order.\n###### The highest average delay time is 95 minutes 18 seconds for train 4689.\n###### The shortest average delay time is 6 seconds for train 4146.\nDelay_Aug19 <- August2019 %>%\n  filter(delay_minutes > 0) %>%\n  select(train_id, date, delay_minutes)\n\nAvg_Delay_Aug19 <- Delay_Aug19 %>%\n  group_by(train_id) %>%\n  summarise(avg = mean(delay_minutes))\n\nAvg_Delay_Aug19 %>%\n  select(train_id,avg) %>%\n  arrange(desc(avg))\n\nAvg_Delay_Aug19 %>%\n  select(train_id,avg) %>%\n  arrange(avg)",
      "metadata": {},
      "execution_count": null,
      "outputs": []
    },
    {
      "cell_type": "code",
      "source": "###### Average time delay in September 2019 arranged by descending order.\n###### The highest average delay time is 95 minutes 48 seconds for train 4689.\n###### The shortest average delay time is 5 seconds for train 4200.\nDelay_Sept19 <- September2019 %>%\n  filter(delay_minutes > 0) %>%\n  select(train_id, date, delay_minutes)\n\nAvg_Delay_Sept19 <- Delay_Sept19 %>%\n  group_by(train_id) %>%\n  summarise(avg = mean(delay_minutes))\n\nAvg_Delay_Sept19 %>%\n  select(train_id,avg) %>%\n  arrange(desc(avg))\n\nAvg_Delay_Sept19 %>%\n  select(train_id,avg) %>%\n  arrange(avg)",
      "metadata": {},
      "execution_count": null,
      "outputs": []
    },
    {
      "cell_type": "code",
      "source": "###### Average time delay in October 2019 arranged by descending order.\n###### The highest average delay time is 96 minutes 48 seconds for train 4689.\n###### The shortest average delay time is 3 seconds for train 1620.\nDelay_Oct19 <- October2019 %>%\n  filter(delay_minutes > 0) %>%\n  select(train_id, date, delay_minutes)\n\nAvg_Delay_Oct19 <- Delay_Oct19 %>%\n  group_by(train_id) %>%\n  summarise(avg = mean(delay_minutes))\n\nAvg_Delay_Oct19 %>%\n  select(train_id,avg) %>%\n  arrange(desc(avg))\n\nAvg_Delay_Oct19 %>%\n  select(train_id,avg) %>%\n  arrange(avg)",
      "metadata": {},
      "execution_count": null,
      "outputs": []
    },
    {
      "cell_type": "code",
      "source": "###### Average time delay in November 2019 arranged by descending order.\n###### The highest average delay time is 96 minutes 6 seconds for train 4689.\n###### The shortest average delay time is 7 seconds for train 4104.\nDelay_Nov19 <- November2019 %>%\n  filter(delay_minutes > 0) %>%\n  select(train_id, date, delay_minutes)\n\nAvg_Delay_Nov19 <- Delay_Nov19 %>%\n  group_by(train_id) %>%\n  summarise(avg = mean(delay_minutes))\n\nAvg_Delay_Nov19 %>%\n  select(train_id,avg) %>%\n  arrange(desc(avg))\n\nAvg_Delay_Nov19 %>%\n  select(train_id,avg) %>%\n  arrange(avg)",
      "metadata": {},
      "execution_count": null,
      "outputs": []
    },
    {
      "cell_type": "code",
      "source": "###### Average time delay in December 2019 arranged by descending order.\n###### The highest average delay time is 91 minutes 36 seconds for train 4689.\n###### The shortest average delay time is 3 seconds for train 4110.\nDelay_Dec19 <- December2019 %>%\n  filter(delay_minutes > 0) %>%\n  select(train_id, date, delay_minutes)\n\nAvg_Delay_Dec19 <- Delay_Dec19 %>%\n  group_by(train_id) %>%\n  summarise(avg = mean(delay_minutes))\n\nAvg_Delay_Dec19 %>%\n  select(train_id,avg) %>%\n  arrange(desc(avg))\n\nAvg_Delay_Dec19 %>%\n  select(train_id,avg) %>%\n  arrange(avg)",
      "metadata": {},
      "execution_count": null,
      "outputs": []
    },
    {
      "cell_type": "code",
      "source": "###### Average time delay in January 2020 arranged by descending order.\n###### The highest average delay time is 150 minutes for train 9225.\n###### The shortest average delay time is 2 seconds for train 4228.\nDelay_Jan20 <- January2020 %>%\n  filter(delay_minutes > 0) %>%\n  select(train_id, date, delay_minutes)\n\nAvg_Delay_Jan20 <- Delay_Jan20 %>%\n  group_by(train_id) %>%\n  summarise(avg = mean(delay_minutes))\n\nAvg_Delay_Jan20 %>%\n  select(train_id,avg) %>%\n  arrange(desc(avg))\n\nAvg_Delay_Jan20 %>%\n  select(train_id,avg) %>%\n  arrange(avg)",
      "metadata": {},
      "execution_count": null,
      "outputs": []
    },
    {
      "cell_type": "code",
      "source": "###### Average time delay in February 2020 arranged by descending order.\n###### The highest average delay time is 148 minutes for train 9225.\n###### The shortest average delay time is 17 seconds for train 4182.\nDelay_Feb20 <- February2020 %>%\n  filter(delay_minutes > 0) %>%\n  select(train_id, date, delay_minutes)\n\nAvg_Delay_Feb20 <- Delay_Feb20 %>%\n  group_by(train_id) %>%\n  summarise(avg = mean(delay_minutes))\n\nAvg_Delay_Feb20 %>%\n  select(train_id,avg) %>%\n  arrange(desc(avg))\n\nAvg_Delay_Feb20 %>%\n  select(train_id,avg) %>%\n  arrange(avg)",
      "metadata": {},
      "execution_count": null,
      "outputs": []
    },
    {
      "cell_type": "code",
      "source": "###### Average time delay in March 2020 arranged by descending order.\n###### The highest average delay time is 151 minutes for train 9225.\n###### The shortest average delay time is 2 seconds for train 4678.\nDelay_Mar20 <- March2020 %>%\n  filter(delay_minutes > 0) %>%\n  select(train_id, date, delay_minutes)\n\nAvg_Delay_Mar20 <- Delay_Mar20 %>%\n  group_by(train_id) %>%\n  summarise(avg = mean(delay_minutes))\n\nAvg_Delay_Mar20 %>%\n  select(train_id,avg) %>%\n  arrange(desc(avg))\n\nAvg_Delay_Mar20 %>%\n  select(train_id,avg) %>%\n  arrange(avg)",
      "metadata": {},
      "execution_count": null,
      "outputs": []
    },
    {
      "cell_type": "code",
      "source": "###### Average time delay in April 2020 arranged by descending order.\n###### The highest average delay time is 148 minutes for train 9225.\n###### The shortest average delay time is 5 seconds for train 4268.\nDelay_Apr20 <- April2020 %>%\n  filter(delay_minutes > 0) %>%\n  select(train_id, date, delay_minutes)\n\nAvg_Delay_Apr20 <- Delay_Apr20 %>%\n  group_by(train_id) %>%\n  summarise(avg = mean(delay_minutes))\n\nAvg_Delay_Apr20 %>%\n  select(train_id,avg) %>%\n  arrange(desc(avg))\n\nAvg_Delay_Apr20 %>%\n  select(train_id,avg) %>%\n  arrange(avg)",
      "metadata": {},
      "execution_count": null,
      "outputs": []
    },
    {
      "cell_type": "code",
      "source": "###### Average time delay in May 2020 arranged by descending order.\n###### The highest average delay time is 150 minutes for train 9225.\n###### The shortest average delay time is 5 seconds for train 4256.\nDelay_May20 <- May2020 %>%\n  filter(delay_minutes > 0) %>%\n  select(train_id, date, delay_minutes)\n\nAvg_Delay_May20 <- Delay_May20 %>%\n  group_by(train_id) %>%\n  summarise(avg = mean(delay_minutes))\n\nAvg_Delay_May20 %>%\n  select(train_id,avg) %>%\n  arrange(desc(avg))\n\nAvg_Delay_May20 %>%\n  select(train_id,avg) %>%\n  arrange(avg)",
      "metadata": {},
      "execution_count": null,
      "outputs": []
    },
    {
      "cell_type": "code",
      "source": "## average delay per line throughout both years\n\navg_delay_line <- all_data_clean %>%\t\t\n  filter(delay_minutes > 0) %>%\n  select(line, delay_minutes) %>%\n  group_by(line) %>%\n  dplyr::summarise(avg = mean(delay_minutes)) %>%\n  arrange(desc(avg))\n\navg_delay_line <- avg_delay_line %>% \n  mutate(prop = avg / sum(avg_delay_line$avg) *100) %>%\n  mutate(ypos = cumsum(prop)- 0.5*prop )\t\t#calculating position for text on pie chart\n\nbar_delay<- ggplot(avg_delay_line, aes(x=\"\", y=prop, fill=line))+\n  geom_bar(width = 1, stat = \"identity\")\t\t#intermediate bar chart to further process into pie chart\n\npie_delay <- bar_delay + \n  coord_polar(\"y\", start=0) + \n  theme_void() + \n  geom_text(aes(label = line), color = \"white\", size=3, position = position_stack(vjust = 0.5))\n\n\nall_data <- list.files(path = \"yourPath\", pattern = \"*.csv\", full.names = TRUE) %>% \n  lapply(read_csv) %>%                      #returns all files from selected csv as lists\n  bind_rows                                         #combines all data under similar rows\nhead(all_data)  \n ",
      "metadata": {},
      "execution_count": null,
      "outputs": []
    },
    {
      "cell_type": "code",
      "source": "## list of trains with the number of “no departures” in the last 2 years\ninv_train = read_csv(file=\"invalid_trains.csv\")  #reading the invalid_train csv file\n\ninv_trains_clean <- inv_train %>% \n  clean_names()\t\t#cleans the table from characters other than alphanumeric\ninv_trains_clean[] <- lapply(inv_trains_clean, gsub, pattern=\"\\\\.\", replacement=\"\")  #further cleaning of the tibble\n\nno_dep <- inv_trains_clean %>% \t\t#trains with no departures\n  filter(reason == \"no departures\") %>%\n  count(train_id)\t\t\t\t#counting as grouped by Train ID\n\nno_dep <- no_dep %>%\n  select(train_id, n) %>%\n  arrange(desc(n))\t\t#arranging in descending order\nhead(no_dep)\n\n ",
      "metadata": {},
      "execution_count": null,
      "outputs": []
    },
    {
      "cell_type": "markdown",
      "source": "## average delay per line throughout both years\n\navg_delay_line <- all_data_clean %>%\t\t\n  filter(delay_minutes > 0) %>%\n  select(line, delay_minutes) %>%\n  group_by(line) %>%\n  dplyr::summarise(avg = mean(delay_minutes)) %>%\n  arrange(desc(avg))\n\navg_delay_line <- avg_delay_line %>% \n  mutate(prop = avg / sum(avg_delay_line$avg) *100) %>%\n  mutate(ypos = cumsum(prop)- 0.5*prop )\t\t#calculating position for text on pie chart\n\nbar_delay<- ggplot(avg_delay_line, aes(x=\"\", y=prop, fill=line))+\n  geom_bar(width = 1, stat = \"identity\")\t\t#intermediate bar chart to further process into pie chart\n\npie_delay <- bar_delay %>%\n  coord_polar(\"y\", start=0) %>% \t#converting bar_delay chart to pie chart\n  theme_void() %>% \t\t\t#default theme\n  geom_text(aes(label = line), color = \"white\", size=3, position = position_stack(vjust = 0.5))\t#adding labels and colors for legend",
      "metadata": {}
    }
  ]
}